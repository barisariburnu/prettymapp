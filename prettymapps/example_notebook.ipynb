{
 "cells": [
  {
   "cell_type": "code",
   "execution_count": null,
   "id": "770d1893-70b9-4c65-8651-903346f355a9",
   "metadata": {},
   "outputs": [],
   "source": [
    "from prettymapps.geo import get_aoi\n",
    "from prettymapps.osm import get_osm_geometries\n",
    "from prettymapps.plotting import Plot\n",
    "from prettymapps.settings import STYLES\n",
    "\n",
    "aoi = get_aoi(address=\"Praça Ferreira do Amaral, Macau\", radius=1100, rectangular=False)\n",
    "df = get_osm_geometries(aoi=aoi)\n",
    "\n",
    "fig = Plot(\n",
    "    df=df,\n",
    "    aoi_bounds=aoi.bounds,\n",
    "    draw_settings=STYLES[\"Peach\"]\n",
    ").plot_all()\n"
   ]
  },
  {
   "cell_type": "code",
   "execution_count": null,
   "id": "1321e1fb-82d9-4d15-a4a3-696422063ecc",
   "metadata": {},
   "outputs": [],
   "source": [
    "from prettymapps.osm import get_osm_geometries_from_xml\n",
    "\n",
    "df = get_osm_geometries_from_xml(filepath=\"./tests/mock_data/osm_xml_file.osm\")\n",
    "aoi_bounds = df.total_bounds\n",
    "\n",
    "fig = Plot(\n",
    "    df=df,\n",
    "    aoi_bounds=aoi_bounds,\n",
    "    draw_settings=STYLES[\"Peach\"]\n",
    ").plot_all()"
   ]
  },
  {
   "cell_type": "code",
   "execution_count": null,
   "id": "787f0a25-0eb4-45de-8889-2db572c09c26",
   "metadata": {},
   "outputs": [],
   "source": []
  }
 ],
 "metadata": {
  "kernelspec": {
   "display_name": "prettymapp",
   "language": "python",
   "name": "prettymapp"
  },
  "language_info": {
   "codemirror_mode": {
    "name": "ipython",
    "version": 3
   },
   "file_extension": ".py",
   "mimetype": "text/x-python",
   "name": "python",
   "nbconvert_exporter": "python",
   "pygments_lexer": "ipython3",
   "version": "3.12.3"
  }
 },
 "nbformat": 4,
 "nbformat_minor": 5
}
